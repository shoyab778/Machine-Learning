{
 "cells": [
  {
   "cell_type": "code",
   "execution_count": 1,
   "metadata": {},
   "outputs": [],
   "source": [
    "import pandas as pd\n"
   ]
  },
  {
   "cell_type": "code",
   "execution_count": 2,
   "metadata": {},
   "outputs": [],
   "source": [
    "icecream = pd.read_csv('https://github.com/ybifoundation/Dataset/raw/main/Ice%20Cream.csv')\n"
   ]
  },
  {
   "cell_type": "code",
   "execution_count": 3,
   "metadata": {},
   "outputs": [
    {
     "data": {
      "text/plain": [
       "Index(['Temperature', 'Revenue'], dtype='object')"
      ]
     },
     "execution_count": 3,
     "metadata": {},
     "output_type": "execute_result"
    }
   ],
   "source": [
    "icecream.columns\n"
   ]
  },
  {
   "cell_type": "code",
   "execution_count": 4,
   "metadata": {},
   "outputs": [],
   "source": [
    "y = icecream['Revenue']\n"
   ]
  },
  {
   "cell_type": "code",
   "execution_count": 5,
   "metadata": {},
   "outputs": [],
   "source": [
    "X = icecream[['Temperature']]\n"
   ]
  },
  {
   "cell_type": "code",
   "execution_count": 6,
   "metadata": {},
   "outputs": [],
   "source": [
    "from sklearn.model_selection import train_test_split\n",
    "X_train, X_test, y_train, y_test = train_test_split(X,y, train_size=0.7, random_state=2529)"
   ]
  },
  {
   "cell_type": "code",
   "execution_count": 7,
   "metadata": {},
   "outputs": [
    {
     "data": {
      "text/plain": [
       "((350, 1), (150, 1), (350,), (150,))"
      ]
     },
     "execution_count": 7,
     "metadata": {},
     "output_type": "execute_result"
    }
   ],
   "source": [
    "X_train.shape, X_test.shape, y_train.shape, y_test.shape\n"
   ]
  },
  {
   "cell_type": "code",
   "execution_count": 8,
   "metadata": {},
   "outputs": [],
   "source": [
    "from sklearn.linear_model import LinearRegression\n",
    "model = LinearRegression()"
   ]
  },
  {
   "cell_type": "code",
   "execution_count": 9,
   "metadata": {},
   "outputs": [
    {
     "data": {
      "text/plain": [
       "LinearRegression(copy_X=True, fit_intercept=True, n_jobs=None, normalize=False)"
      ]
     },
     "execution_count": 9,
     "metadata": {},
     "output_type": "execute_result"
    }
   ],
   "source": [
    "model.fit(X_train,y_train)"
   ]
  },
  {
   "cell_type": "code",
   "execution_count": 10,
   "metadata": {},
   "outputs": [
    {
     "data": {
      "text/plain": [
       "42.44477259083942"
      ]
     },
     "execution_count": 10,
     "metadata": {},
     "output_type": "execute_result"
    }
   ],
   "source": [
    "model.intercept_\n"
   ]
  },
  {
   "cell_type": "code",
   "execution_count": 11,
   "metadata": {},
   "outputs": [
    {
     "data": {
      "text/plain": [
       "array([21.54587147])"
      ]
     },
     "execution_count": 11,
     "metadata": {},
     "output_type": "execute_result"
    }
   ],
   "source": [
    "model.coef_\n"
   ]
  },
  {
   "cell_type": "code",
   "execution_count": 12,
   "metadata": {},
   "outputs": [],
   "source": [
    "y_pred = model.predict(X_test)\n"
   ]
  },
  {
   "cell_type": "code",
   "execution_count": 13,
   "metadata": {},
   "outputs": [
    {
     "data": {
      "text/plain": [
       "array([645.7291738 , 380.7149547 , 180.33835001, 247.13055157,\n",
       "       415.18834905, 283.75853308, 372.09660611, 671.58421957,\n",
       "       675.89339386, 684.51174245, 531.536055  , 613.41036659,\n",
       "       361.32367037, 303.1498174 , 158.79247854, 473.36220203,\n",
       "       611.25577945, 615.56495374, 512.14477068, 805.16862269,\n",
       "       268.67642305, 441.04339482, 436.73422053, 861.18788852,\n",
       "       531.536055  , 216.96633151, 725.44889825, 311.76816599,\n",
       "       505.68100924, 466.89844059, 684.51174245, 960.29889729,\n",
       "       550.92733933, 615.56495374, 367.78743182, 404.41541332,\n",
       "       413.03376191, 662.96587098, 876.26999855, 544.46357788,\n",
       "       811.63238414, 686.6663296 , 486.28972491, 322.54110172,\n",
       "       637.11082521, 798.70486125, 438.88880767, 790.08651266,\n",
       "       684.51174245, 497.06266065, 380.7149547 , 479.82596347,\n",
       "       479.82596347, 563.85486221, 665.12045813, 453.9709177 ,\n",
       "       688.82091675, 647.88376095, 391.48789043, 662.96587098,\n",
       "       507.83559638, 309.61357884, 397.95165188, 199.72963434,\n",
       "       387.17871614, 658.65669669, 441.04339482, 395.79706473,\n",
       "       652.19293524, 841.7966042 , 581.09155939, 352.70532179,\n",
       "       734.06724684, 350.55073464, 253.59431301, 449.66174341,\n",
       "       637.11082521, 135.09201992, 594.01908227, 669.42963242,\n",
       "       699.59385248, 598.32825656, 469.05302773, 912.89798005,\n",
       "       697.43926533, 835.33284275, 527.22688071, 902.12504432,\n",
       "       352.70532179, 423.80669764, 591.86449512, 656.50210954,\n",
       "       548.77275218, 188.9566986 , 641.41999951, 641.41999951,\n",
       "       572.4732108 , 486.28972491, 469.05302773, 632.80165092,\n",
       "       512.14477068, 292.37688166, 729.75807254, 477.67137632,\n",
       "        63.99064406, 395.79706473, 591.86449512, 469.05302773,\n",
       "       568.1640365 , 602.63743086, 736.22183398, 492.75348635,\n",
       "       337.62321175, 656.50210954, 423.80669764, 313.92275314,\n",
       "       458.280092  , 419.49752335, 456.12550485, 559.54568791,\n",
       "       522.91770641, 206.19339578, 742.68559543, 673.73880672,\n",
       "       367.78743182, 690.97550389, 712.52137536, 520.76311927,\n",
       "       309.61357884, 626.33788948, 803.01403555, 576.78238509,\n",
       "       738.37642113, 645.7291738 , 453.9709177 , 578.93697224,\n",
       "       566.00944936, 589.70990798, 447.50715626, 434.57963338,\n",
       "       555.23651362, 509.99018353, 641.41999951, 475.51678917,\n",
       "       441.04339482, 703.90302678, 410.87917476, 462.58926629,\n",
       "       410.87917476, 305.30440455])"
      ]
     },
     "execution_count": 13,
     "metadata": {},
     "output_type": "execute_result"
    }
   ],
   "source": [
    "y_pred"
   ]
  },
  {
   "cell_type": "code",
   "execution_count": 15,
   "metadata": {},
   "outputs": [
    {
     "data": {
      "text/plain": [
       "19.138687444270744"
      ]
     },
     "execution_count": 15,
     "metadata": {},
     "output_type": "execute_result"
    }
   ],
   "source": [
    "mean_absolute_error(y_test,y_pred)"
   ]
  }
 ],
 "metadata": {
  "kernelspec": {
   "display_name": "Python 3",
   "language": "python",
   "name": "python3"
  },
  "language_info": {
   "codemirror_mode": {
    "name": "ipython",
    "version": 3
   },
   "file_extension": ".py",
   "mimetype": "text/x-python",
   "name": "python",
   "nbconvert_exporter": "python",
   "pygments_lexer": "ipython3",
   "version": "3.7.3"
  }
 },
 "nbformat": 4,
 "nbformat_minor": 2
}
